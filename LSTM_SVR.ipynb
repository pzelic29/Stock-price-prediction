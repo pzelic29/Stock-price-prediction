{
  "nbformat": 4,
  "nbformat_minor": 0,
  "metadata": {
    "colab": {
      "name": "Untitled1.ipynb",
      "provenance": [],
      "collapsed_sections": []
    },
    "kernelspec": {
      "name": "python3",
      "display_name": "Python 3"
    }
  },
  "cells": [
    {
      "cell_type": "code",
      "metadata": {
        "id": "VppTIkaKQYS8",
        "colab_type": "code",
        "colab": {}
      },
      "source": [
        "##Artificial recurrent neural network Long Short term memory (lsmt)\n",
        "## Za predviđanje cijena dionica kompanije (Apple Inc.) "
      ],
      "execution_count": 0,
      "outputs": []
    },
    {
      "cell_type": "code",
      "metadata": {
        "id": "5TJg9gDtQ-dG",
        "colab_type": "code",
        "colab": {}
      },
      "source": [
        "##Učitavanje potrebnih biblioteka\n",
        "import math\n",
        "import pandas_datareader as web ##podaci\n",
        "import numpy as np\n",
        "import pandas as pd\n",
        "from sklearn.preprocessing import MinMaxScaler\n",
        "from keras.models import Sequential\n",
        "from keras.layers import Dense, LSTM\n",
        "import matplotlib.pyplot as plt ##crtanje grafova\n",
        "plt.style.use('fivethirtyeight')\n",
        "\n",
        "\n",
        "from sklearn.linear_model import LinearRegression ##linerana regresija\n",
        "from sklearn.svm import SVR ##support vector machine\n",
        "from sklearn.model_selection import train_test_split ##za razdvajanje i uvježbavanje podata te njihovo testiranje\n"
      ],
      "execution_count": 0,
      "outputs": []
    },
    {
      "cell_type": "code",
      "metadata": {
        "id": "LHNrwSH7TRWz",
        "colab_type": "code",
        "outputId": "945cd880-df33-40e2-fafc-332050392239",
        "colab": {
          "base_uri": "https://localhost:8080/",
          "height": 436
        }
      },
      "source": [
        "#Učitavanje podataka\n",
        "df = web.DataReader('AAPL', data_source='yahoo', start='2012-01-01', end='2019-12-31')\n",
        "df"
      ],
      "execution_count": 0,
      "outputs": [
        {
          "output_type": "execute_result",
          "data": {
            "text/html": [
              "<div>\n",
              "<style scoped>\n",
              "    .dataframe tbody tr th:only-of-type {\n",
              "        vertical-align: middle;\n",
              "    }\n",
              "\n",
              "    .dataframe tbody tr th {\n",
              "        vertical-align: top;\n",
              "    }\n",
              "\n",
              "    .dataframe thead th {\n",
              "        text-align: right;\n",
              "    }\n",
              "</style>\n",
              "<table border=\"1\" class=\"dataframe\">\n",
              "  <thead>\n",
              "    <tr style=\"text-align: right;\">\n",
              "      <th></th>\n",
              "      <th>High</th>\n",
              "      <th>Low</th>\n",
              "      <th>Open</th>\n",
              "      <th>Close</th>\n",
              "      <th>Volume</th>\n",
              "      <th>Adj Close</th>\n",
              "    </tr>\n",
              "    <tr>\n",
              "      <th>Date</th>\n",
              "      <th></th>\n",
              "      <th></th>\n",
              "      <th></th>\n",
              "      <th></th>\n",
              "      <th></th>\n",
              "      <th></th>\n",
              "    </tr>\n",
              "  </thead>\n",
              "  <tbody>\n",
              "    <tr>\n",
              "      <th>2012-01-03</th>\n",
              "      <td>58.928570</td>\n",
              "      <td>58.428570</td>\n",
              "      <td>58.485714</td>\n",
              "      <td>58.747143</td>\n",
              "      <td>75555200.0</td>\n",
              "      <td>50.994907</td>\n",
              "    </tr>\n",
              "    <tr>\n",
              "      <th>2012-01-04</th>\n",
              "      <td>59.240002</td>\n",
              "      <td>58.468571</td>\n",
              "      <td>58.571430</td>\n",
              "      <td>59.062859</td>\n",
              "      <td>65005500.0</td>\n",
              "      <td>51.268970</td>\n",
              "    </tr>\n",
              "    <tr>\n",
              "      <th>2012-01-05</th>\n",
              "      <td>59.792858</td>\n",
              "      <td>58.952858</td>\n",
              "      <td>59.278572</td>\n",
              "      <td>59.718571</td>\n",
              "      <td>67817400.0</td>\n",
              "      <td>51.838169</td>\n",
              "    </tr>\n",
              "    <tr>\n",
              "      <th>2012-01-06</th>\n",
              "      <td>60.392857</td>\n",
              "      <td>59.888573</td>\n",
              "      <td>59.967144</td>\n",
              "      <td>60.342857</td>\n",
              "      <td>79573200.0</td>\n",
              "      <td>52.380054</td>\n",
              "    </tr>\n",
              "    <tr>\n",
              "      <th>2012-01-09</th>\n",
              "      <td>61.107143</td>\n",
              "      <td>60.192856</td>\n",
              "      <td>60.785713</td>\n",
              "      <td>60.247143</td>\n",
              "      <td>98506100.0</td>\n",
              "      <td>52.296970</td>\n",
              "    </tr>\n",
              "    <tr>\n",
              "      <th>...</th>\n",
              "      <td>...</td>\n",
              "      <td>...</td>\n",
              "      <td>...</td>\n",
              "      <td>...</td>\n",
              "      <td>...</td>\n",
              "      <td>...</td>\n",
              "    </tr>\n",
              "    <tr>\n",
              "      <th>2019-12-24</th>\n",
              "      <td>284.890015</td>\n",
              "      <td>282.920013</td>\n",
              "      <td>284.690002</td>\n",
              "      <td>284.269989</td>\n",
              "      <td>12119700.0</td>\n",
              "      <td>283.596924</td>\n",
              "    </tr>\n",
              "    <tr>\n",
              "      <th>2019-12-26</th>\n",
              "      <td>289.980011</td>\n",
              "      <td>284.700012</td>\n",
              "      <td>284.820007</td>\n",
              "      <td>289.910004</td>\n",
              "      <td>23280300.0</td>\n",
              "      <td>289.223602</td>\n",
              "    </tr>\n",
              "    <tr>\n",
              "      <th>2019-12-27</th>\n",
              "      <td>293.970001</td>\n",
              "      <td>288.119995</td>\n",
              "      <td>291.119995</td>\n",
              "      <td>289.799988</td>\n",
              "      <td>36566500.0</td>\n",
              "      <td>289.113831</td>\n",
              "    </tr>\n",
              "    <tr>\n",
              "      <th>2019-12-30</th>\n",
              "      <td>292.690002</td>\n",
              "      <td>285.220001</td>\n",
              "      <td>289.459991</td>\n",
              "      <td>291.519989</td>\n",
              "      <td>36028600.0</td>\n",
              "      <td>290.829773</td>\n",
              "    </tr>\n",
              "    <tr>\n",
              "      <th>2019-12-31</th>\n",
              "      <td>293.679993</td>\n",
              "      <td>289.519989</td>\n",
              "      <td>289.929993</td>\n",
              "      <td>293.649994</td>\n",
              "      <td>25201400.0</td>\n",
              "      <td>292.954712</td>\n",
              "    </tr>\n",
              "  </tbody>\n",
              "</table>\n",
              "<p>2012 rows × 6 columns</p>\n",
              "</div>"
            ],
            "text/plain": [
              "                  High         Low  ...      Volume   Adj Close\n",
              "Date                                ...                        \n",
              "2012-01-03   58.928570   58.428570  ...  75555200.0   50.994907\n",
              "2012-01-04   59.240002   58.468571  ...  65005500.0   51.268970\n",
              "2012-01-05   59.792858   58.952858  ...  67817400.0   51.838169\n",
              "2012-01-06   60.392857   59.888573  ...  79573200.0   52.380054\n",
              "2012-01-09   61.107143   60.192856  ...  98506100.0   52.296970\n",
              "...                ...         ...  ...         ...         ...\n",
              "2019-12-24  284.890015  282.920013  ...  12119700.0  283.596924\n",
              "2019-12-26  289.980011  284.700012  ...  23280300.0  289.223602\n",
              "2019-12-27  293.970001  288.119995  ...  36566500.0  289.113831\n",
              "2019-12-30  292.690002  285.220001  ...  36028600.0  290.829773\n",
              "2019-12-31  293.679993  289.519989  ...  25201400.0  292.954712\n",
              "\n",
              "[2012 rows x 6 columns]"
            ]
          },
          "metadata": {
            "tags": []
          },
          "execution_count": 18
        }
      ]
    },
    {
      "cell_type": "code",
      "metadata": {
        "id": "r5Soi4sLTzrU",
        "colab_type": "code",
        "outputId": "b6e16071-d46c-4bc8-f497-00d3451fc2b7",
        "colab": {
          "base_uri": "https://localhost:8080/",
          "height": 34
        }
      },
      "source": [
        "#Broj redaka i stupaca u podacima\n",
        "df.shape"
      ],
      "execution_count": 0,
      "outputs": [
        {
          "output_type": "execute_result",
          "data": {
            "text/plain": [
              "(2012, 6)"
            ]
          },
          "metadata": {
            "tags": []
          },
          "execution_count": 19
        }
      ]
    },
    {
      "cell_type": "code",
      "metadata": {
        "id": "-vi91cuFT8lV",
        "colab_type": "code",
        "outputId": "4265b71e-d96f-4535-dc04-6041b8b8b1a0",
        "colab": {
          "base_uri": "https://localhost:8080/",
          "height": 557
        }
      },
      "source": [
        "##Vizualizacija cijena dionica na dan zatvaranja\n",
        "plt.figure(figsize=(16,8))\n",
        "plt.title('Cijena dionica')\n",
        "plt.plot(df['Close'])\n",
        "plt.xlabel('Datum',fontsize=18)\n",
        "plt.ylabel('Cijena USD ($) ',fontsize=18)\n",
        "plt.show()"
      ],
      "execution_count": 0,
      "outputs": [
        {
          "output_type": "display_data",
          "data": {
            "image/png": "[encoded data removed]",
            "text/plain": [
              "<Figure size 1152x576 with 1 Axes>"
            ]
          },
          "metadata": {
            "tags": []
          }
        }
      ]
    },
    {
      "cell_type": "code",
      "metadata": {
        "id": "qQVRdVliZgNj",
        "colab_type": "code",
        "outputId": "2a2ffe46-5f94-4e7a-b7e6-37abe531ccb5",
        "colab": {
          "base_uri": "https://localhost:8080/",
          "height": 34
        }
      },
      "source": [
        "##Kreiranje novih podataka koji sadrže samo \"Close\" stupcem\n",
        "data=df.filter(['Close'])\n",
        "#Pretvaranje u numpy array\n",
        "dataset=data.values\n",
        "#Broj redaksa na kojima ćemo testirati model\n",
        "training_data_len=math.ceil(len(dataset)*.8)\n",
        "training_data_len"
      ],
      "execution_count": 0,
      "outputs": [
        {
          "output_type": "execute_result",
          "data": {
            "text/plain": [
              "1610"
            ]
          },
          "metadata": {
            "tags": []
          },
          "execution_count": 21
        }
      ]
    },
    {
      "cell_type": "code",
      "metadata": {
        "id": "-KKBuf9vaZjk",
        "colab_type": "code",
        "outputId": "ec981a87-0668-4aca-e735-edec0328e1ca",
        "colab": {
          "base_uri": "https://localhost:8080/",
          "height": 141
        }
      },
      "source": [
        "#Skaliraje podataka\n",
        "scaler=MinMaxScaler(feature_range=(0,1))\n",
        "scaled_data=scaler.fit_transform(dataset)\n",
        "\n",
        "scaled_data"
      ],
      "execution_count": 0,
      "outputs": [
        {
          "output_type": "execute_result",
          "data": {
            "text/plain": [
              "array([[0.01243228],\n",
              "       [0.0137596 ],\n",
              "       [0.01651631],\n",
              "       ...,\n",
              "       [0.98381398],\n",
              "       [0.99104513],\n",
              "       [1.        ]])"
            ]
          },
          "metadata": {
            "tags": []
          },
          "execution_count": 22
        }
      ]
    },
    {
      "cell_type": "code",
      "metadata": {
        "id": "7D9rkcDPa_Mu",
        "colab_type": "code",
        "outputId": "37ca2a36-0003-4fe1-b4e6-acf2755512de",
        "colab": {
          "base_uri": "https://localhost:8080/",
          "height": 265
        }
      },
      "source": [
        "#Kreiranje podataka za uvježbavanje\n",
        "train_data=scaled_data[0:training_data_len,:]\n",
        "##podijela podataka na x_train and y_train podatke\n",
        "x_train=[]\n",
        "y_train=[]\n",
        "\n",
        "for i in range(60,len(train_data)):\n",
        "  x_train.append(train_data[i-60:i,0])\n",
        "  y_train.append(train_data[i,0])\n",
        "  if i<=60:\n",
        "    print(x_train)\n",
        "    print(y_train)\n",
        "    print()\n"
      ],
      "execution_count": 0,
      "outputs": [
        {
          "output_type": "stream",
          "text": [
            "[array([0.01243228, 0.0137596 , 0.01651631, 0.01914091, 0.01873851,\n",
            "       0.0196454 , 0.01923099, 0.0185343 , 0.01758538, 0.02052227,\n",
            "       0.02317089, 0.02235408, 0.01787967, 0.02214988, 0.01794572,\n",
            "       0.0337113 , 0.03249209, 0.03408368, 0.03752507, 0.03960912,\n",
            "       0.03943495, 0.03879233, 0.04153103, 0.04410756, 0.04702647,\n",
            "       0.05174113, 0.06164491, 0.06179505, 0.06730851, 0.07142856,\n",
            "       0.06434756, 0.06707427, 0.06702022, 0.07466578, 0.07357869,\n",
            "       0.07559067, 0.07920624, 0.08121825, 0.08701398, 0.09123616,\n",
            "       0.09245533, 0.09288177, 0.08566265, 0.0839209 , 0.08417917,\n",
            "       0.09096586, 0.09287577, 0.0969778 , 0.10664737, 0.11954812,\n",
            "       0.11713373, 0.11713972, 0.12646695, 0.12938582, 0.12730777,\n",
            "       0.12540992, 0.12343396, 0.12999843, 0.1345029 , 0.13638876])]\n",
            "[0.13172814323221588]\n",
            "\n"
          ],
          "name": "stdout"
        }
      ]
    },
    {
      "cell_type": "code",
      "metadata": {
        "id": "hRoENA16ceiP",
        "colab_type": "code",
        "colab": {}
      },
      "source": [
        "##Prebacivanje x_train i y_train u nupmy array\n",
        "x_train,y_train=np.array(x_train),np.array(y_train)"
      ],
      "execution_count": 0,
      "outputs": []
    },
    {
      "cell_type": "code",
      "metadata": {
        "id": "iF3IHVjZcu7E",
        "colab_type": "code",
        "outputId": "49b17c1f-1f92-4105-ada7-a21a6b698a86",
        "colab": {
          "base_uri": "https://localhost:8080/",
          "height": 34
        }
      },
      "source": [
        "##reshape the data\n",
        "x_train=np.reshape(x_train,(x_train.shape[0],x_train.shape[1],1))\n",
        "x_train.shape"
      ],
      "execution_count": 0,
      "outputs": [
        {
          "output_type": "execute_result",
          "data": {
            "text/plain": [
              "(1550, 60, 1)"
            ]
          },
          "metadata": {
            "tags": []
          },
          "execution_count": 25
        }
      ]
    },
    {
      "cell_type": "code",
      "metadata": {
        "id": "ADT0X7B6e2_y",
        "colab_type": "code",
        "colab": {}
      },
      "source": [
        "#Kreiranje LSTM model\n",
        "model = Sequential()\n",
        "model.add(LSTM(50, return_sequences=True, input_shape= (x_train.shape[1], 1)))\n",
        "model.add(LSTM(50, return_sequences= False))\n",
        "model.add(Dense(25))\n",
        "model.add(Dense(1))"
      ],
      "execution_count": 0,
      "outputs": []
    },
    {
      "cell_type": "code",
      "metadata": {
        "id": "Sq7KO5-tfC0E",
        "colab_type": "code",
        "colab": {}
      },
      "source": [
        "model.compile(optimizer='Adam', loss='mean_squared_error')"
      ],
      "execution_count": 0,
      "outputs": []
    },
    {
      "cell_type": "code",
      "metadata": {
        "id": "SP1ILo3YfNMf",
        "colab_type": "code",
        "outputId": "7f155070-d77f-4e62-bbe9-1f8e8ebbf9f0",
        "colab": {
          "base_uri": "https://localhost:8080/",
          "height": 375
        }
      },
      "source": [
        "##Uvježbavanje modela\n",
        "model.fit(x_train,y_train,batch_size=1,epochs=1)"
      ],
      "execution_count": 0,
      "outputs": [
        {
          "output_type": "stream",
          "text": [
            "WARNING:tensorflow:From /usr/local/lib/python3.6/dist-packages/tensorflow_core/python/ops/math_grad.py:1424: where (from tensorflow.python.ops.array_ops) is deprecated and will be removed in a future version.\n",
            "Instructions for updating:\n",
            "Use tf.where in 2.0, which has the same broadcast rule as np.where\n",
            "WARNING:tensorflow:From /usr/local/lib/python3.6/dist-packages/keras/backend/tensorflow_backend.py:1033: The name tf.assign_add is deprecated. Please use tf.compat.v1.assign_add instead.\n",
            "\n",
            "WARNING:tensorflow:From /usr/local/lib/python3.6/dist-packages/keras/backend/tensorflow_backend.py:1020: The name tf.assign is deprecated. Please use tf.compat.v1.assign instead.\n",
            "\n",
            "WARNING:tensorflow:From /usr/local/lib/python3.6/dist-packages/keras/backend/tensorflow_backend.py:3005: The name tf.Session is deprecated. Please use tf.compat.v1.Session instead.\n",
            "\n",
            "Epoch 1/1\n",
            "WARNING:tensorflow:From /usr/local/lib/python3.6/dist-packages/keras/backend/tensorflow_backend.py:190: The name tf.get_default_session is deprecated. Please use tf.compat.v1.get_default_session instead.\n",
            "\n",
            "WARNING:tensorflow:From /usr/local/lib/python3.6/dist-packages/keras/backend/tensorflow_backend.py:197: The name tf.ConfigProto is deprecated. Please use tf.compat.v1.ConfigProto instead.\n",
            "\n",
            "WARNING:tensorflow:From /usr/local/lib/python3.6/dist-packages/keras/backend/tensorflow_backend.py:207: The name tf.global_variables is deprecated. Please use tf.compat.v1.global_variables instead.\n",
            "\n",
            "WARNING:tensorflow:From /usr/local/lib/python3.6/dist-packages/keras/backend/tensorflow_backend.py:216: The name tf.is_variable_initialized is deprecated. Please use tf.compat.v1.is_variable_initialized instead.\n",
            "\n",
            "WARNING:tensorflow:From /usr/local/lib/python3.6/dist-packages/keras/backend/tensorflow_backend.py:223: The name tf.variables_initializer is deprecated. Please use tf.compat.v1.variables_initializer instead.\n",
            "\n",
            "1550/1550 [==============================] - 129s 83ms/step - loss: 6.2074e-04\n"
          ],
          "name": "stdout"
        },
        {
          "output_type": "execute_result",
          "data": {
            "text/plain": [
              "<keras.callbacks.History at 0x7ff8de935198>"
            ]
          },
          "metadata": {
            "tags": []
          },
          "execution_count": 29
        }
      ]
    },
    {
      "cell_type": "code",
      "metadata": {
        "id": "478a3gM_gFoH",
        "colab_type": "code",
        "colab": {}
      },
      "source": [
        "##Kreiranje podataka za uvježbavannje\n",
        "##Create a new array containing scaled values form index 1543 to 2003\n",
        "test_data=scaled_data[training_data_len-60:,:]\n",
        "##Kreiranje data sets x_test,y_test\n",
        "x_test=[]\n",
        "y_test=dataset[training_data_len: ,:]\n",
        "for i in range(60,len(test_data)):\n",
        "  x_test.append(test_data[i-60:i,0])"
      ],
      "execution_count": 0,
      "outputs": []
    },
    {
      "cell_type": "code",
      "metadata": {
        "id": "3cIZs4uFhGKg",
        "colab_type": "code",
        "colab": {}
      },
      "source": [
        "#Pretvaranje podataka u a numpy array\n",
        "x_test=np.array(x_test)"
      ],
      "execution_count": 0,
      "outputs": []
    },
    {
      "cell_type": "code",
      "metadata": {
        "id": "AP7jOXXThZsi",
        "colab_type": "code",
        "colab": {}
      },
      "source": [
        "#Shape the data\n",
        "x_test=np.reshape(x_test,(x_test.shape[0],x_test.shape[1],1))"
      ],
      "execution_count": 0,
      "outputs": []
    },
    {
      "cell_type": "code",
      "metadata": {
        "id": "AVbxOrpBhxul",
        "colab_type": "code",
        "colab": {}
      },
      "source": [
        "##Predviđena cijena x_test dataset\n",
        "predictions=model.predict(x_test)\n",
        "predictions=scaler.inverse_transform(predictions)                                                                                                   "
      ],
      "execution_count": 0,
      "outputs": []
    },
    {
      "cell_type": "code",
      "metadata": {
        "id": "Cfi-hQbFmHkq",
        "colab_type": "code",
        "outputId": "84b1e969-6088-4e22-e8d0-6190a56ac5b5",
        "colab": {
          "base_uri": "https://localhost:8080/",
          "height": 33
        }
      },
      "source": [
        "##Root mean squared error (RMSE)\n",
        "##rmse = np.sqrt(((predictions - y_test) ** 2).mean())\n",
        "rmse = np.sqrt(((predictions - y_test) ** 2).mean())\n",
        "rmse"
      ],
      "execution_count": 0,
      "outputs": [
        {
          "output_type": "execute_result",
          "data": {
            "text/plain": [
              "8.783787539227635"
            ]
          },
          "metadata": {
            "tags": []
          },
          "execution_count": 48
        }
      ]
    },
    {
      "cell_type": "code",
      "metadata": {
        "id": "XuNCln2OmmLX",
        "colab_type": "code",
        "outputId": "4ae03801-76db-416c-9077-968d547f08ee",
        "colab": {
          "base_uri": "https://localhost:8080/",
          "height": 655
        }
      },
      "source": [
        "#Plot the data\n",
        "train = data[:training_data_len]\n",
        "valid = data[training_data_len:]\n",
        "valid['Predictions'] = predictions\n",
        "#Vizualizacija podataka\n",
        "plt.figure(figsize=(16,8))\n",
        "plt.title('Model')\n",
        "plt.xlabel('Datum', fontsize=18)\n",
        "plt.ylabel('Cijena USD ($)', fontsize=18)\n",
        "plt.plot(train['Close'])\n",
        "plt.plot(valid[['Close', 'Predictions']])\n",
        "plt.legend(['Uvježbavanje', 'Stvarno stanje', 'Predviđenje'], loc='lower right')\n",
        "plt.show()"
      ],
      "execution_count": 0,
      "outputs": [
        {
          "output_type": "stream",
          "text": [
            "/usr/local/lib/python3.6/dist-packages/ipykernel_launcher.py:3: SettingWithCopyWarning: \n",
            "A value is trying to be set on a copy of a slice from a DataFrame.\n",
            "Try using .loc[row_indexer,col_indexer] = value instead\n",
            "\n",
            "See the caveats in the documentation: http://pandas.pydata.org/pandas-docs/stable/user_guide/indexing.html#returning-a-view-versus-a-copy\n",
            "  This is separate from the ipykernel package so we can avoid doing imports until\n"
          ],
          "name": "stderr"
        },
        {
          "output_type": "display_data",
          "data": {
            "image/png": "[encoded data removed]",
            "text/plain": [
              "<Figure size 1152x576 with 1 Axes>"
            ]
          },
          "metadata": {
            "tags": []
          }
        }
      ]
    },
    {
      "cell_type": "code",
      "metadata": {
        "id": "J7wuleLuohq3",
        "colab_type": "code",
        "outputId": "792eac64-d599-40cf-8cac-a2b8e585d03e",
        "colab": {
          "base_uri": "https://localhost:8080/",
          "height": 420
        }
      },
      "source": [
        "#Prikaz stvarnih cijena i predviđenih cijena\n",
        "valid"
      ],
      "execution_count": 0,
      "outputs": [
        {
          "output_type": "execute_result",
          "data": {
            "text/html": [
              "<div>\n",
              "<style scoped>\n",
              "    .dataframe tbody tr th:only-of-type {\n",
              "        vertical-align: middle;\n",
              "    }\n",
              "\n",
              "    .dataframe tbody tr th {\n",
              "        vertical-align: top;\n",
              "    }\n",
              "\n",
              "    .dataframe thead th {\n",
              "        text-align: right;\n",
              "    }\n",
              "</style>\n",
              "<table border=\"1\" class=\"dataframe\">\n",
              "  <thead>\n",
              "    <tr style=\"text-align: right;\">\n",
              "      <th></th>\n",
              "      <th>Close</th>\n",
              "      <th>Predictions</th>\n",
              "    </tr>\n",
              "    <tr>\n",
              "      <th>Date</th>\n",
              "      <th></th>\n",
              "      <th></th>\n",
              "    </tr>\n",
              "  </thead>\n",
              "  <tbody>\n",
              "    <tr>\n",
              "      <th>2018-05-29</th>\n",
              "      <td>187.899994</td>\n",
              "      <td>183.237793</td>\n",
              "    </tr>\n",
              "    <tr>\n",
              "      <th>2018-05-30</th>\n",
              "      <td>187.500000</td>\n",
              "      <td>183.400177</td>\n",
              "    </tr>\n",
              "    <tr>\n",
              "      <th>2018-05-31</th>\n",
              "      <td>186.869995</td>\n",
              "      <td>183.439560</td>\n",
              "    </tr>\n",
              "    <tr>\n",
              "      <th>2018-06-01</th>\n",
              "      <td>190.240005</td>\n",
              "      <td>183.334946</td>\n",
              "    </tr>\n",
              "    <tr>\n",
              "      <th>2018-06-04</th>\n",
              "      <td>191.830002</td>\n",
              "      <td>183.637955</td>\n",
              "    </tr>\n",
              "    <tr>\n",
              "      <th>...</th>\n",
              "      <td>...</td>\n",
              "      <td>...</td>\n",
              "    </tr>\n",
              "    <tr>\n",
              "      <th>2019-12-24</th>\n",
              "      <td>284.269989</td>\n",
              "      <td>267.793640</td>\n",
              "    </tr>\n",
              "    <tr>\n",
              "      <th>2019-12-26</th>\n",
              "      <td>289.910004</td>\n",
              "      <td>268.871704</td>\n",
              "    </tr>\n",
              "    <tr>\n",
              "      <th>2019-12-27</th>\n",
              "      <td>289.799988</td>\n",
              "      <td>270.547028</td>\n",
              "    </tr>\n",
              "    <tr>\n",
              "      <th>2019-12-30</th>\n",
              "      <td>291.519989</td>\n",
              "      <td>272.202728</td>\n",
              "    </tr>\n",
              "    <tr>\n",
              "      <th>2019-12-31</th>\n",
              "      <td>293.649994</td>\n",
              "      <td>273.827393</td>\n",
              "    </tr>\n",
              "  </tbody>\n",
              "</table>\n",
              "<p>402 rows × 2 columns</p>\n",
              "</div>"
            ],
            "text/plain": [
              "                 Close  Predictions\n",
              "Date                               \n",
              "2018-05-29  187.899994   183.237793\n",
              "2018-05-30  187.500000   183.400177\n",
              "2018-05-31  186.869995   183.439560\n",
              "2018-06-01  190.240005   183.334946\n",
              "2018-06-04  191.830002   183.637955\n",
              "...                ...          ...\n",
              "2019-12-24  284.269989   267.793640\n",
              "2019-12-26  289.910004   268.871704\n",
              "2019-12-27  289.799988   270.547028\n",
              "2019-12-30  291.519989   272.202728\n",
              "2019-12-31  293.649994   273.827393\n",
              "\n",
              "[402 rows x 2 columns]"
            ]
          },
          "metadata": {
            "tags": []
          },
          "execution_count": 49
        }
      ]
    },
    {
      "cell_type": "code",
      "metadata": {
        "id": "KnGks9XaowWr",
        "colab_type": "code",
        "outputId": "1eda347c-00eb-4787-cefb-992b8a944724",
        "colab": {
          "base_uri": "https://localhost:8080/",
          "height": 33
        }
      },
      "source": [
        "#Get the quote\n",
        "apple_quote=web.DataReader('AAPL',data_source='yahoo',start='2012-01-01',end='2019-12-31')\n",
        "##Create a newq dataframe\n",
        "new_df=apple_quote.filter(['Close'])\n",
        "##Get the last 60 day closing price values and convert the dataframe to an array\n",
        "last_60_days=new_df[-60:].values\n",
        "#Scale the data to be values between 0 and 1\n",
        "last_60_days_scaled=scaler.transform(last_60_days)\n",
        "##Create an empety list\n",
        "X_test=[]\n",
        "##Append the last 60 days \n",
        "X_test.append(last_60_days_scaled)\n",
        "#Convert the X_test data set to a numpy array\n",
        "X_test=np.array(X_test)\n",
        "##Reshape the data\n",
        "X_test=np.reshape(X_test,(X_test.shape[0],X_test.shape[1],1))\n",
        "#Get the predicted scaled price\n",
        "pred_price=model.predict(X_test)\n",
        "##undo the scaling\n",
        "pred_price=scaler.inverse_transform(pred_price)\n",
        "print(pred_price)\n"
      ],
      "execution_count": 0,
      "outputs": [
        {
          "output_type": "stream",
          "text": [
            "[[275.46936]]\n"
          ],
          "name": "stdout"
        }
      ]
    },
    {
      "cell_type": "code",
      "metadata": {
        "id": "IVAw7wevrtxr",
        "colab_type": "code",
        "outputId": "d70f5970-0a99-4abf-a18b-671a60ff9d8c",
        "colab": {
          "base_uri": "https://localhost:8080/",
          "height": 66
        }
      },
      "source": [
        "##Get the quote \n",
        "apple_quote2=web.DataReader('AAPL',data_source='yahoo',start='2019-12-31',end='2019-12-31')\n",
        "print(apple_quote2['Close'])"
      ],
      "execution_count": 0,
      "outputs": [
        {
          "output_type": "stream",
          "text": [
            "Date\n",
            "2019-12-31    293.649994\n",
            "Name: Close, dtype: float64\n"
          ],
          "name": "stdout"
        }
      ]
    },
    {
      "cell_type": "code",
      "metadata": {
        "id": "dqqdiJWttWSA",
        "colab_type": "code",
        "colab": {}
      },
      "source": [
        "##Ovo je bio dio programa koji je pokazao predviđene cijene koristeći LSTM,a sad ćemo pokazati kako istu stvar rade SVM i Linearna regresija"
      ],
      "execution_count": 0,
      "outputs": []
    },
    {
      "cell_type": "code",
      "metadata": {
        "id": "AEva7y4iMJpD",
        "colab_type": "code",
        "outputId": "eb13afbb-df01-41ed-a6a6-be9469d5e007",
        "colab": {
          "resources": {
            "http://localhost:8080/nbextensions/google.colab/files.js": {
              "data": "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",
              "ok": true,
              "headers": [
                [
                  "content-type",
                  "application/javascript"
                ]
              ],
              "status": 200,
              "status_text": ""
            }
          },
          "base_uri": "https://localhost:8080/",
          "height": 706
        }
      },
      "source": [
        "\n",
        "#Učitavanje podataka\n",
        "from google.colab import files # učitavanje podataka na Google Colab\n",
        "uploaded = files.upload() \n",
        "df = pd.read_excel('AAPL_stock_history2.xlsx')\n",
        "df"
      ],
      "execution_count": 0,
      "outputs": [
        {
          "output_type": "display_data",
          "data": {
            "text/html": [
              "\n",
              "     <input type=\"file\" id=\"files-659b2829-6565-4230-b073-4e81f6a52c65\" name=\"files[]\" multiple disabled />\n",
              "     <output id=\"result-659b2829-6565-4230-b073-4e81f6a52c65\">\n",
              "      Upload widget is only available when the cell has been executed in the\n",
              "      current browser session. Please rerun this cell to enable.\n",
              "      </output>\n",
              "      <script src=\"/nbextensions/google.colab/files.js\"></script> "
            ],
            "text/plain": [
              "<IPython.core.display.HTML object>"
            ]
          },
          "metadata": {
            "tags": []
          }
        },
        {
          "output_type": "stream",
          "text": [
            "Saving AAPL_stock_history2.xlsx to AAPL_stock_history2.xlsx\n"
          ],
          "name": "stdout"
        },
        {
          "output_type": "execute_result",
          "data": {
            "text/html": [
              "<div>\n",
              "<style scoped>\n",
              "    .dataframe tbody tr th:only-of-type {\n",
              "        vertical-align: middle;\n",
              "    }\n",
              "\n",
              "    .dataframe tbody tr th {\n",
              "        vertical-align: top;\n",
              "    }\n",
              "\n",
              "    .dataframe thead th {\n",
              "        text-align: right;\n",
              "    }\n",
              "</style>\n",
              "<table border=\"1\" class=\"dataframe\">\n",
              "  <thead>\n",
              "    <tr style=\"text-align: right;\">\n",
              "      <th></th>\n",
              "      <th>Date</th>\n",
              "      <th>Open</th>\n",
              "      <th>High</th>\n",
              "      <th>Low</th>\n",
              "      <th>Close</th>\n",
              "      <th>Adj Close</th>\n",
              "      <th>Volume</th>\n",
              "    </tr>\n",
              "  </thead>\n",
              "  <tbody>\n",
              "    <tr>\n",
              "      <th>0</th>\n",
              "      <td>2019-12-02</td>\n",
              "      <td>267269989</td>\n",
              "      <td>268250000</td>\n",
              "      <td>263450012</td>\n",
              "      <td>264160004</td>\n",
              "      <td>263534546</td>\n",
              "      <td>23621800</td>\n",
              "    </tr>\n",
              "    <tr>\n",
              "      <th>1</th>\n",
              "      <td>2019-12-03</td>\n",
              "      <td>258309998</td>\n",
              "      <td>259529999</td>\n",
              "      <td>256290009</td>\n",
              "      <td>259450012</td>\n",
              "      <td>258835724</td>\n",
              "      <td>28607600</td>\n",
              "    </tr>\n",
              "    <tr>\n",
              "      <th>2</th>\n",
              "      <td>2019-12-04</td>\n",
              "      <td>261070007</td>\n",
              "      <td>263309998</td>\n",
              "      <td>260679993</td>\n",
              "      <td>261739990</td>\n",
              "      <td>261120270</td>\n",
              "      <td>16795400</td>\n",
              "    </tr>\n",
              "    <tr>\n",
              "      <th>3</th>\n",
              "      <td>2019-12-05</td>\n",
              "      <td>263790009</td>\n",
              "      <td>265890015</td>\n",
              "      <td>262730011</td>\n",
              "      <td>265579987</td>\n",
              "      <td>264951172</td>\n",
              "      <td>18606100</td>\n",
              "    </tr>\n",
              "    <tr>\n",
              "      <th>4</th>\n",
              "      <td>2019-12-06</td>\n",
              "      <td>267480011</td>\n",
              "      <td>271000000</td>\n",
              "      <td>267299988</td>\n",
              "      <td>270709991</td>\n",
              "      <td>270069031</td>\n",
              "      <td>26518900</td>\n",
              "    </tr>\n",
              "    <tr>\n",
              "      <th>5</th>\n",
              "      <td>2019-12-09</td>\n",
              "      <td>270000000</td>\n",
              "      <td>270799988</td>\n",
              "      <td>264910004</td>\n",
              "      <td>266920013</td>\n",
              "      <td>266288025</td>\n",
              "      <td>32010600</td>\n",
              "    </tr>\n",
              "    <tr>\n",
              "      <th>6</th>\n",
              "      <td>2019-12-10</td>\n",
              "      <td>268600006</td>\n",
              "      <td>270070007</td>\n",
              "      <td>265859985</td>\n",
              "      <td>268480011</td>\n",
              "      <td>267844330</td>\n",
              "      <td>22605100</td>\n",
              "    </tr>\n",
              "    <tr>\n",
              "      <th>7</th>\n",
              "      <td>2019-12-11</td>\n",
              "      <td>268809998</td>\n",
              "      <td>271100006</td>\n",
              "      <td>268500000</td>\n",
              "      <td>270769989</td>\n",
              "      <td>270128906</td>\n",
              "      <td>19689200</td>\n",
              "    </tr>\n",
              "    <tr>\n",
              "      <th>8</th>\n",
              "      <td>2019-12-12</td>\n",
              "      <td>267779999</td>\n",
              "      <td>272559998</td>\n",
              "      <td>267320007</td>\n",
              "      <td>271459991</td>\n",
              "      <td>270817261</td>\n",
              "      <td>34327600</td>\n",
              "    </tr>\n",
              "    <tr>\n",
              "      <th>9</th>\n",
              "      <td>2019-12-13</td>\n",
              "      <td>271459991</td>\n",
              "      <td>275299988</td>\n",
              "      <td>270929993</td>\n",
              "      <td>275149994</td>\n",
              "      <td>274498535</td>\n",
              "      <td>33396900</td>\n",
              "    </tr>\n",
              "    <tr>\n",
              "      <th>10</th>\n",
              "      <td>2019-12-16</td>\n",
              "      <td>277000000</td>\n",
              "      <td>280790009</td>\n",
              "      <td>276980011</td>\n",
              "      <td>279859985</td>\n",
              "      <td>279197357</td>\n",
              "      <td>32046500</td>\n",
              "    </tr>\n",
              "    <tr>\n",
              "      <th>11</th>\n",
              "      <td>2019-12-17</td>\n",
              "      <td>279570007</td>\n",
              "      <td>281769989</td>\n",
              "      <td>278799988</td>\n",
              "      <td>280410004</td>\n",
              "      <td>279746094</td>\n",
              "      <td>28539600</td>\n",
              "    </tr>\n",
              "    <tr>\n",
              "      <th>12</th>\n",
              "      <td>2019-12-18</td>\n",
              "      <td>279799988</td>\n",
              "      <td>281899994</td>\n",
              "      <td>279119995</td>\n",
              "      <td>279739990</td>\n",
              "      <td>279077667</td>\n",
              "      <td>29007100</td>\n",
              "    </tr>\n",
              "    <tr>\n",
              "      <th>13</th>\n",
              "      <td>2019-12-19</td>\n",
              "      <td>279500000</td>\n",
              "      <td>281179993</td>\n",
              "      <td>278950012</td>\n",
              "      <td>280019989</td>\n",
              "      <td>279356995</td>\n",
              "      <td>24592300</td>\n",
              "    </tr>\n",
              "    <tr>\n",
              "      <th>14</th>\n",
              "      <td>2019-12-20</td>\n",
              "      <td>282230011</td>\n",
              "      <td>282649994</td>\n",
              "      <td>278559998</td>\n",
              "      <td>279440002</td>\n",
              "      <td>278778381</td>\n",
              "      <td>68994500</td>\n",
              "    </tr>\n",
              "    <tr>\n",
              "      <th>15</th>\n",
              "      <td>2019-12-23</td>\n",
              "      <td>280529999</td>\n",
              "      <td>284250000</td>\n",
              "      <td>280369995</td>\n",
              "      <td>284000000</td>\n",
              "      <td>283327576</td>\n",
              "      <td>24643000</td>\n",
              "    </tr>\n",
              "    <tr>\n",
              "      <th>16</th>\n",
              "      <td>2019-12-24</td>\n",
              "      <td>284690002</td>\n",
              "      <td>284890015</td>\n",
              "      <td>282920013</td>\n",
              "      <td>284269989</td>\n",
              "      <td>283596924</td>\n",
              "      <td>12119700</td>\n",
              "    </tr>\n",
              "    <tr>\n",
              "      <th>17</th>\n",
              "      <td>2019-12-26</td>\n",
              "      <td>284820007</td>\n",
              "      <td>289980011</td>\n",
              "      <td>284700012</td>\n",
              "      <td>289910004</td>\n",
              "      <td>289223602</td>\n",
              "      <td>23280300</td>\n",
              "    </tr>\n",
              "    <tr>\n",
              "      <th>18</th>\n",
              "      <td>2019-12-27</td>\n",
              "      <td>291119995</td>\n",
              "      <td>293970001</td>\n",
              "      <td>288119995</td>\n",
              "      <td>289799988</td>\n",
              "      <td>289113831</td>\n",
              "      <td>36566500</td>\n",
              "    </tr>\n",
              "    <tr>\n",
              "      <th>19</th>\n",
              "      <td>2019-12-30</td>\n",
              "      <td>289459991</td>\n",
              "      <td>292690002</td>\n",
              "      <td>285220001</td>\n",
              "      <td>291519989</td>\n",
              "      <td>290829773</td>\n",
              "      <td>36028600</td>\n",
              "    </tr>\n",
              "    <tr>\n",
              "      <th>20</th>\n",
              "      <td>2019-12-31</td>\n",
              "      <td>289929993</td>\n",
              "      <td>293679993</td>\n",
              "      <td>289519989</td>\n",
              "      <td>293649994</td>\n",
              "      <td>292954712</td>\n",
              "      <td>25201400</td>\n",
              "    </tr>\n",
              "  </tbody>\n",
              "</table>\n",
              "</div>"
            ],
            "text/plain": [
              "          Date       Open       High        Low      Close  Adj Close    Volume\n",
              "0   2019-12-02  267269989  268250000  263450012  264160004  263534546  23621800\n",
              "1   2019-12-03  258309998  259529999  256290009  259450012  258835724  28607600\n",
              "2   2019-12-04  261070007  263309998  260679993  261739990  261120270  16795400\n",
              "3   2019-12-05  263790009  265890015  262730011  265579987  264951172  18606100\n",
              "4   2019-12-06  267480011  271000000  267299988  270709991  270069031  26518900\n",
              "5   2019-12-09  270000000  270799988  264910004  266920013  266288025  32010600\n",
              "6   2019-12-10  268600006  270070007  265859985  268480011  267844330  22605100\n",
              "7   2019-12-11  268809998  271100006  268500000  270769989  270128906  19689200\n",
              "8   2019-12-12  267779999  272559998  267320007  271459991  270817261  34327600\n",
              "9   2019-12-13  271459991  275299988  270929993  275149994  274498535  33396900\n",
              "10  2019-12-16  277000000  280790009  276980011  279859985  279197357  32046500\n",
              "11  2019-12-17  279570007  281769989  278799988  280410004  279746094  28539600\n",
              "12  2019-12-18  279799988  281899994  279119995  279739990  279077667  29007100\n",
              "13  2019-12-19  279500000  281179993  278950012  280019989  279356995  24592300\n",
              "14  2019-12-20  282230011  282649994  278559998  279440002  278778381  68994500\n",
              "15  2019-12-23  280529999  284250000  280369995  284000000  283327576  24643000\n",
              "16  2019-12-24  284690002  284890015  282920013  284269989  283596924  12119700\n",
              "17  2019-12-26  284820007  289980011  284700012  289910004  289223602  23280300\n",
              "18  2019-12-27  291119995  293970001  288119995  289799988  289113831  36566500\n",
              "19  2019-12-30  289459991  292690002  285220001  291519989  290829773  36028600\n",
              "20  2019-12-31  289929993  293679993  289519989  293649994  292954712  25201400"
            ]
          },
          "metadata": {
            "tags": []
          },
          "execution_count": 55
        }
      ]
    },
    {
      "cell_type": "code",
      "metadata": {
        "id": "LDxdhEzHPvCh",
        "colab_type": "code",
        "colab": {}
      },
      "source": [
        "#Kreiranje lista / x i y podataka zavisna i nezavisna varijabla\n",
        "dates=[]\n",
        "prices=[]\n"
      ],
      "execution_count": 0,
      "outputs": []
    },
    {
      "cell_type": "code",
      "metadata": {
        "id": "4w98N4QwP65J",
        "colab_type": "code",
        "outputId": "21c97c27-8400-4b9e-ead8-03b6c6b89c6c",
        "colab": {
          "base_uri": "https://localhost:8080/",
          "height": 33
        }
      },
      "source": [
        "#Broj redaka i stupaca\n",
        "df.shape"
      ],
      "execution_count": 0,
      "outputs": [
        {
          "output_type": "execute_result",
          "data": {
            "text/plain": [
              "(21, 7)"
            ]
          },
          "metadata": {
            "tags": []
          },
          "execution_count": 57
        }
      ]
    },
    {
      "cell_type": "code",
      "metadata": {
        "id": "xkqTZHNCQDGN",
        "colab_type": "code",
        "outputId": "6a730193-786c-440f-ec7e-0802d927828a",
        "colab": {
          "base_uri": "https://localhost:8080/",
          "height": 76
        }
      },
      "source": [
        "#Zadnji redak u podatcima(za njega ćemo napraviti predviđanje)\n",
        "df.tail(1)"
      ],
      "execution_count": 0,
      "outputs": [
        {
          "output_type": "execute_result",
          "data": {
            "text/html": [
              "<div>\n",
              "<style scoped>\n",
              "    .dataframe tbody tr th:only-of-type {\n",
              "        vertical-align: middle;\n",
              "    }\n",
              "\n",
              "    .dataframe tbody tr th {\n",
              "        vertical-align: top;\n",
              "    }\n",
              "\n",
              "    .dataframe thead th {\n",
              "        text-align: right;\n",
              "    }\n",
              "</style>\n",
              "<table border=\"1\" class=\"dataframe\">\n",
              "  <thead>\n",
              "    <tr style=\"text-align: right;\">\n",
              "      <th></th>\n",
              "      <th>Date</th>\n",
              "      <th>Open</th>\n",
              "      <th>High</th>\n",
              "      <th>Low</th>\n",
              "      <th>Close</th>\n",
              "      <th>Adj Close</th>\n",
              "      <th>Volume</th>\n",
              "    </tr>\n",
              "  </thead>\n",
              "  <tbody>\n",
              "    <tr>\n",
              "      <th>20</th>\n",
              "      <td>2019-12-31</td>\n",
              "      <td>289929993</td>\n",
              "      <td>293679993</td>\n",
              "      <td>289519989</td>\n",
              "      <td>293649994</td>\n",
              "      <td>292954712</td>\n",
              "      <td>25201400</td>\n",
              "    </tr>\n",
              "  </tbody>\n",
              "</table>\n",
              "</div>"
            ],
            "text/plain": [
              "          Date       Open       High        Low      Close  Adj Close    Volume\n",
              "20  2019-12-31  289929993  293679993  289519989  293649994  292954712  25201400"
            ]
          },
          "metadata": {
            "tags": []
          },
          "execution_count": 58
        }
      ]
    },
    {
      "cell_type": "code",
      "metadata": {
        "id": "8KhZJR2SQbMJ",
        "colab_type": "code",
        "outputId": "be9d1b36-f4d7-4d8f-c5e2-8040da57537f",
        "colab": {
          "base_uri": "https://localhost:8080/",
          "height": 622
        }
      },
      "source": [
        "#Data set bez zadnjeg retka\n",
        "df=df.head(len(df)-1)\n",
        "df"
      ],
      "execution_count": 0,
      "outputs": [
        {
          "output_type": "execute_result",
          "data": {
            "text/html": [
              "<div>\n",
              "<style scoped>\n",
              "    .dataframe tbody tr th:only-of-type {\n",
              "        vertical-align: middle;\n",
              "    }\n",
              "\n",
              "    .dataframe tbody tr th {\n",
              "        vertical-align: top;\n",
              "    }\n",
              "\n",
              "    .dataframe thead th {\n",
              "        text-align: right;\n",
              "    }\n",
              "</style>\n",
              "<table border=\"1\" class=\"dataframe\">\n",
              "  <thead>\n",
              "    <tr style=\"text-align: right;\">\n",
              "      <th></th>\n",
              "      <th>Date</th>\n",
              "      <th>Open</th>\n",
              "      <th>High</th>\n",
              "      <th>Low</th>\n",
              "      <th>Close</th>\n",
              "      <th>Adj Close</th>\n",
              "      <th>Volume</th>\n",
              "    </tr>\n",
              "  </thead>\n",
              "  <tbody>\n",
              "    <tr>\n",
              "      <th>0</th>\n",
              "      <td>2019-12-02</td>\n",
              "      <td>267269989</td>\n",
              "      <td>268250000</td>\n",
              "      <td>263450012</td>\n",
              "      <td>264160004</td>\n",
              "      <td>263534546</td>\n",
              "      <td>23621800</td>\n",
              "    </tr>\n",
              "    <tr>\n",
              "      <th>1</th>\n",
              "      <td>2019-12-03</td>\n",
              "      <td>258309998</td>\n",
              "      <td>259529999</td>\n",
              "      <td>256290009</td>\n",
              "      <td>259450012</td>\n",
              "      <td>258835724</td>\n",
              "      <td>28607600</td>\n",
              "    </tr>\n",
              "    <tr>\n",
              "      <th>2</th>\n",
              "      <td>2019-12-04</td>\n",
              "      <td>261070007</td>\n",
              "      <td>263309998</td>\n",
              "      <td>260679993</td>\n",
              "      <td>261739990</td>\n",
              "      <td>261120270</td>\n",
              "      <td>16795400</td>\n",
              "    </tr>\n",
              "    <tr>\n",
              "      <th>3</th>\n",
              "      <td>2019-12-05</td>\n",
              "      <td>263790009</td>\n",
              "      <td>265890015</td>\n",
              "      <td>262730011</td>\n",
              "      <td>265579987</td>\n",
              "      <td>264951172</td>\n",
              "      <td>18606100</td>\n",
              "    </tr>\n",
              "    <tr>\n",
              "      <th>4</th>\n",
              "      <td>2019-12-06</td>\n",
              "      <td>267480011</td>\n",
              "      <td>271000000</td>\n",
              "      <td>267299988</td>\n",
              "      <td>270709991</td>\n",
              "      <td>270069031</td>\n",
              "      <td>26518900</td>\n",
              "    </tr>\n",
              "    <tr>\n",
              "      <th>5</th>\n",
              "      <td>2019-12-09</td>\n",
              "      <td>270000000</td>\n",
              "      <td>270799988</td>\n",
              "      <td>264910004</td>\n",
              "      <td>266920013</td>\n",
              "      <td>266288025</td>\n",
              "      <td>32010600</td>\n",
              "    </tr>\n",
              "    <tr>\n",
              "      <th>6</th>\n",
              "      <td>2019-12-10</td>\n",
              "      <td>268600006</td>\n",
              "      <td>270070007</td>\n",
              "      <td>265859985</td>\n",
              "      <td>268480011</td>\n",
              "      <td>267844330</td>\n",
              "      <td>22605100</td>\n",
              "    </tr>\n",
              "    <tr>\n",
              "      <th>7</th>\n",
              "      <td>2019-12-11</td>\n",
              "      <td>268809998</td>\n",
              "      <td>271100006</td>\n",
              "      <td>268500000</td>\n",
              "      <td>270769989</td>\n",
              "      <td>270128906</td>\n",
              "      <td>19689200</td>\n",
              "    </tr>\n",
              "    <tr>\n",
              "      <th>8</th>\n",
              "      <td>2019-12-12</td>\n",
              "      <td>267779999</td>\n",
              "      <td>272559998</td>\n",
              "      <td>267320007</td>\n",
              "      <td>271459991</td>\n",
              "      <td>270817261</td>\n",
              "      <td>34327600</td>\n",
              "    </tr>\n",
              "    <tr>\n",
              "      <th>9</th>\n",
              "      <td>2019-12-13</td>\n",
              "      <td>271459991</td>\n",
              "      <td>275299988</td>\n",
              "      <td>270929993</td>\n",
              "      <td>275149994</td>\n",
              "      <td>274498535</td>\n",
              "      <td>33396900</td>\n",
              "    </tr>\n",
              "    <tr>\n",
              "      <th>10</th>\n",
              "      <td>2019-12-16</td>\n",
              "      <td>277000000</td>\n",
              "      <td>280790009</td>\n",
              "      <td>276980011</td>\n",
              "      <td>279859985</td>\n",
              "      <td>279197357</td>\n",
              "      <td>32046500</td>\n",
              "    </tr>\n",
              "    <tr>\n",
              "      <th>11</th>\n",
              "      <td>2019-12-17</td>\n",
              "      <td>279570007</td>\n",
              "      <td>281769989</td>\n",
              "      <td>278799988</td>\n",
              "      <td>280410004</td>\n",
              "      <td>279746094</td>\n",
              "      <td>28539600</td>\n",
              "    </tr>\n",
              "    <tr>\n",
              "      <th>12</th>\n",
              "      <td>2019-12-18</td>\n",
              "      <td>279799988</td>\n",
              "      <td>281899994</td>\n",
              "      <td>279119995</td>\n",
              "      <td>279739990</td>\n",
              "      <td>279077667</td>\n",
              "      <td>29007100</td>\n",
              "    </tr>\n",
              "    <tr>\n",
              "      <th>13</th>\n",
              "      <td>2019-12-19</td>\n",
              "      <td>279500000</td>\n",
              "      <td>281179993</td>\n",
              "      <td>278950012</td>\n",
              "      <td>280019989</td>\n",
              "      <td>279356995</td>\n",
              "      <td>24592300</td>\n",
              "    </tr>\n",
              "    <tr>\n",
              "      <th>14</th>\n",
              "      <td>2019-12-20</td>\n",
              "      <td>282230011</td>\n",
              "      <td>282649994</td>\n",
              "      <td>278559998</td>\n",
              "      <td>279440002</td>\n",
              "      <td>278778381</td>\n",
              "      <td>68994500</td>\n",
              "    </tr>\n",
              "    <tr>\n",
              "      <th>15</th>\n",
              "      <td>2019-12-23</td>\n",
              "      <td>280529999</td>\n",
              "      <td>284250000</td>\n",
              "      <td>280369995</td>\n",
              "      <td>284000000</td>\n",
              "      <td>283327576</td>\n",
              "      <td>24643000</td>\n",
              "    </tr>\n",
              "    <tr>\n",
              "      <th>16</th>\n",
              "      <td>2019-12-24</td>\n",
              "      <td>284690002</td>\n",
              "      <td>284890015</td>\n",
              "      <td>282920013</td>\n",
              "      <td>284269989</td>\n",
              "      <td>283596924</td>\n",
              "      <td>12119700</td>\n",
              "    </tr>\n",
              "    <tr>\n",
              "      <th>17</th>\n",
              "      <td>2019-12-26</td>\n",
              "      <td>284820007</td>\n",
              "      <td>289980011</td>\n",
              "      <td>284700012</td>\n",
              "      <td>289910004</td>\n",
              "      <td>289223602</td>\n",
              "      <td>23280300</td>\n",
              "    </tr>\n",
              "    <tr>\n",
              "      <th>18</th>\n",
              "      <td>2019-12-27</td>\n",
              "      <td>291119995</td>\n",
              "      <td>293970001</td>\n",
              "      <td>288119995</td>\n",
              "      <td>289799988</td>\n",
              "      <td>289113831</td>\n",
              "      <td>36566500</td>\n",
              "    </tr>\n",
              "    <tr>\n",
              "      <th>19</th>\n",
              "      <td>2019-12-30</td>\n",
              "      <td>289459991</td>\n",
              "      <td>292690002</td>\n",
              "      <td>285220001</td>\n",
              "      <td>291519989</td>\n",
              "      <td>290829773</td>\n",
              "      <td>36028600</td>\n",
              "    </tr>\n",
              "  </tbody>\n",
              "</table>\n",
              "</div>"
            ],
            "text/plain": [
              "          Date       Open       High        Low      Close  Adj Close    Volume\n",
              "0   2019-12-02  267269989  268250000  263450012  264160004  263534546  23621800\n",
              "1   2019-12-03  258309998  259529999  256290009  259450012  258835724  28607600\n",
              "2   2019-12-04  261070007  263309998  260679993  261739990  261120270  16795400\n",
              "3   2019-12-05  263790009  265890015  262730011  265579987  264951172  18606100\n",
              "4   2019-12-06  267480011  271000000  267299988  270709991  270069031  26518900\n",
              "5   2019-12-09  270000000  270799988  264910004  266920013  266288025  32010600\n",
              "6   2019-12-10  268600006  270070007  265859985  268480011  267844330  22605100\n",
              "7   2019-12-11  268809998  271100006  268500000  270769989  270128906  19689200\n",
              "8   2019-12-12  267779999  272559998  267320007  271459991  270817261  34327600\n",
              "9   2019-12-13  271459991  275299988  270929993  275149994  274498535  33396900\n",
              "10  2019-12-16  277000000  280790009  276980011  279859985  279197357  32046500\n",
              "11  2019-12-17  279570007  281769989  278799988  280410004  279746094  28539600\n",
              "12  2019-12-18  279799988  281899994  279119995  279739990  279077667  29007100\n",
              "13  2019-12-19  279500000  281179993  278950012  280019989  279356995  24592300\n",
              "14  2019-12-20  282230011  282649994  278559998  279440002  278778381  68994500\n",
              "15  2019-12-23  280529999  284250000  280369995  284000000  283327576  24643000\n",
              "16  2019-12-24  284690002  284890015  282920013  284269989  283596924  12119700\n",
              "17  2019-12-26  284820007  289980011  284700012  289910004  289223602  23280300\n",
              "18  2019-12-27  291119995  293970001  288119995  289799988  289113831  36566500\n",
              "19  2019-12-30  289459991  292690002  285220001  291519989  290829773  36028600"
            ]
          },
          "metadata": {
            "tags": []
          },
          "execution_count": 59
        }
      ]
    },
    {
      "cell_type": "code",
      "metadata": {
        "id": "q2usra3rQq6v",
        "colab_type": "code",
        "outputId": "fa9e7557-ca37-42c5-bb16-16fd8e479849",
        "colab": {
          "base_uri": "https://localhost:8080/",
          "height": 33
        }
      },
      "source": [
        "#The new shape of the data\n",
        "df.shape"
      ],
      "execution_count": 0,
      "outputs": [
        {
          "output_type": "execute_result",
          "data": {
            "text/plain": [
              "(20, 7)"
            ]
          },
          "metadata": {
            "tags": []
          },
          "execution_count": 60
        }
      ]
    },
    {
      "cell_type": "code",
      "metadata": {
        "id": "ZXAZIOa3Q1U1",
        "colab_type": "code",
        "colab": {}
      },
      "source": [
        "#Svi redci from the Date stupca\n",
        "df_dates = df.loc[:, 'Date']\n",
        "#Svi redci iz  Open stupca\n",
        "df_open = df.loc[:, 'Open']"
      ],
      "execution_count": 0,
      "outputs": []
    },
    {
      "cell_type": "code",
      "metadata": {
        "id": "Gx2wpBosTXYz",
        "colab_type": "code",
        "colab": {}
      },
      "source": [
        "#Kreiranje nezavisnog seta podataka X\n",
        "for date in df_dates:\n",
        "  dates.append([int(date.split('-')[2])])\n",
        "  \n",
        "#Kreiranje zavisnog seta podataka 'y'\n",
        "for open_price in df_open:\n",
        "  prices.append(float(open_price))\n"
      ],
      "execution_count": 0,
      "outputs": []
    },
    {
      "cell_type": "code",
      "metadata": {
        "id": "sHDzTNjVUVrY",
        "colab_type": "code",
        "outputId": "c96ff18b-fa31-4958-8850-df36741adb0f",
        "colab": {
          "base_uri": "https://localhost:8080/",
          "height": 33
        }
      },
      "source": [
        "##Dani koji su spremljeni u listu\n",
        "print(dates)"
      ],
      "execution_count": 0,
      "outputs": [
        {
          "output_type": "stream",
          "text": [
            "[[2], [3], [4], [5], [6], [9], [10], [11], [12], [13], [16], [17], [18], [19], [20], [23], [24], [26], [27], [30]]\n"
          ],
          "name": "stdout"
        }
      ]
    },
    {
      "cell_type": "code",
      "metadata": {
        "id": "e8998j5xU1ZD",
        "colab_type": "code",
        "colab": {}
      },
      "source": [
        "def predict_prices(dates, prices, x):\n",
        "  \n",
        "  #Kreiranje 3 Support Vector Regression modela\n",
        "  svr_lin = SVR(kernel='linear', C= 1e3)\n",
        "  svr_poly= SVR(kernel='poly', C=1e3, degree=2)\n",
        "  svr_rbf = SVR(kernel='rbf', C=1e3, gamma=0.1)\n",
        "  \n",
        "  #Uvježbavanje SVR modela \n",
        "  svr_lin.fit(dates,prices)\n",
        "  svr_poly.fit(dates,prices)\n",
        "  svr_rbf.fit(dates,prices)\n",
        "  \n",
        "  #Kreiranje Linear Regression modela\n",
        "  lin_reg = LinearRegression()\n",
        "  #uvježbavanje Linear Regression modela\n",
        "  lin_reg.fit(dates,prices)\n",
        "  \n",
        "  #Plot the models on a graph to see which has the best fit\n",
        "  plt.scatter(dates, prices, color='black', label='Data')\n",
        "  plt.plot(dates, svr_rbf.predict(dates), color='red', label='SVR RBF')\n",
        "  plt.plot(dates, svr_poly.predict(dates), color='blue', label='SVR Poly')\n",
        "  plt.plot(dates, svr_lin.predict(dates), color='green', label='SVR Linear')\n",
        "  plt.plot(dates, lin_reg.predict(dates), color='orange', label='Linear Reg')\n",
        "  plt.xlabel('Dani')\n",
        "  plt.ylabel('Cijene')\n",
        "  plt.title('Regression')\n",
        "  plt.legend()\n",
        "  plt.show()\n",
        "\n",
        "  return svr_rbf.predict(x)[0], svr_lin.predict(x)[0],svr_poly.predict(x)[0],lin_reg.predict(x)[0]"
      ],
      "execution_count": 0,
      "outputs": []
    },
    {
      "cell_type": "code",
      "metadata": {
        "id": "qy3AuYEsUvfL",
        "colab_type": "code",
        "outputId": "72d6da2d-8c66-4017-cffc-283119ce953d",
        "colab": {
          "base_uri": "https://localhost:8080/",
          "height": 341
        }
      },
      "source": [
        "#Predviđanje cijene na datum 31-12.2019.\n",
        "predicted_price=predict_prices(dates,prices,[[30]])\n",
        "print(predicted_price)"
      ],
      "execution_count": 0,
      "outputs": [
        {
          "output_type": "display_data",
          "data": {
            "image/png": "[encoded data removed]",
            "text/plain": [
              "<Figure size 432x288 with 1 Axes>"
            ]
          },
          "metadata": {
            "tags": []
          }
        },
        {
          "output_type": "stream",
          "text": [
            "(274231638.9400956, 276477495.5, 274843689.7238016, 290826516.89273536)\n"
          ],
          "name": "stdout"
        }
      ]
    }
  ]
}